{
 "cells": [
  {
   "cell_type": "code",
   "execution_count": 2,
   "id": "43d8cdfd-72fd-4d30-ac77-a44fc2b40139",
   "metadata": {},
   "outputs": [],
   "source": [
    "import sys\n",
    "sys.path.append(\"../\")\n",
    "from pyproj import CRS\n",
    "import numpy as np\n",
    "import sys\n",
    "from osgeo import gdal\n",
    "import xarray as xr\n",
    "import matplotlib.pyplot as plt\n",
    "from matplotlib import colors\n",
    "import matplotlib.dates as mdates\n",
    "import matplotlib as mpl\n",
    "from matplotlib.ticker import FuncFormatter\n",
    "from datetime import datetime\n",
    "from time import time\n",
    "from collections import Counter\n",
    "import pandas as pd #for data analysing\n",
    "import openpyxl\n",
    "import os\n",
    "\n"
   ]
  },
  {
   "cell_type": "code",
   "execution_count": 4,
   "id": "e27c5d43-0d9c-401e-89ba-6453ee0b7708",
   "metadata": {},
   "outputs": [],
   "source": [
    "NDSI_SON_beforSL_b = xr.open_dataset('NDSI_DJF_beforSL_b_nc.nc')\n",
    "NDSI_SON_beforSL_a = xr.open_dataset('NDSI_DJF_beforSL_a_nc.nc') "
   ]
  },
  {
   "cell_type": "raw",
   "id": "499efbb7-3ed3-47e4-a137-a127f1e51f75",
   "metadata": {
    "scrolled": true
   },
   "source": [
    "###j'ouvre mon dataset\n",
    "summer_mask = xr.open_dataset('summer_mask_80.nc')\n",
    "summer_mask"
   ]
  },
  {
   "cell_type": "code",
   "execution_count": 6,
   "id": "2d2dc9fb-56eb-49d8-b30d-a021f74013d4",
   "metadata": {},
   "outputs": [],
   "source": [
    "NDSI_SON_beforSL = xr.concat([NDSI_SON_beforSL_a, NDSI_SON_beforSL_b], dim='longitude')"
   ]
  },
  {
   "cell_type": "markdown",
   "id": "8fe93bfc-e4ca-4421-a273-de4afddf895a",
   "metadata": {},
   "source": [
    "####j'attribue un CRS à mon dataset\n",
    "crs = CRS.from_string('EPSG:4326')\n",
    "summer_mask.attrs[\"crs\"] = crs.to_proj4()"
   ]
  },
  {
   "cell_type": "code",
   "execution_count": 9,
   "id": "496a15f1-4f83-42f5-bd32-0b1fcc2913ce",
   "metadata": {},
   "outputs": [],
   "source": [
    "lat = NDSI_SON_beforSL['latitude'].values\n",
    "lon = NDSI_SON_beforSL['longitude'].values\n",
    "\n",
    "summer_mask = xr.DataArray(summer_mask.layer.values, coords={'latitude': lat,'longitude':lon}, dims=['latitude','longitude'])\n",
    "NDSI_SON_beforSL['Summer_mask'] = summer_mask\n",
    "####on change en entier le DEM on a pas besoisn de virgule\n",
    "#NDSI_SON['DEM'] = NDSI_SON.DEM.astype('int16')"
   ]
  },
  {
   "cell_type": "raw",
   "id": "9f1b776a-8c3d-48bb-9f9e-c1ef7ecc6d13",
   "metadata": {
    "scrolled": true
   },
   "source": [
    "##### on fait le summer mas, si summer mask =1 et dans notre ratser c'est unnuage alors on le change en 1\n",
    "#### sinon on garde les valeurs du dataset\n",
    "\n",
    "NDSI_SON_beforSL['snow_final3'] = NDSI_SON_beforSL['snow_final2'].copy()\n",
    "for i in range(len(NDSI_SON_beforSL.z)):\n",
    "    print(i)\n",
    "    dataset = NDSI_SON_beforSL.isel(z=i)\n",
    "    NDSI_SON_beforSL['snow_final3'].values[i] = xr.where((dataset['Summer_mask'] == 1) & (dataset['snow_final2'] == 2), 100, dataset['snow_final2'])"
   ]
  },
  {
   "cell_type": "code",
   "execution_count": 12,
   "id": "b071d7ed-c756-4551-a2f8-72fb91179e05",
   "metadata": {},
   "outputs": [],
   "source": [
    "##le faire avant l'analyse et après l'analyse afin de voir le pourcentage de changement\n",
    "##Before\n",
    "def compute_cloudpercent_b(array):\n",
    "    cloud = np.sum(array == 2)\n",
    "    #print(cloud)\n",
    "    tot_pix = np.count_nonzero((~np.isnan(array)))\n",
    "    percentage_cloud_b = round(((float(cloud) / float(tot_pix)) * 100),2)\n",
    "    return percentage_cloud_b"
   ]
  },
  {
   "cell_type": "code",
   "execution_count": 13,
   "id": "9ee1f9e1-706b-448a-9046-d7f5ebd0f3fe",
   "metadata": {},
   "outputs": [],
   "source": [
    "##le faire avant l'analyse et après l'analyse afin de voir le pourcentage de changement\n",
    "##After\n",
    "def compute_cloudpercent_a(array_copy):\n",
    "    cloud = np.sum(array_copy  == 2)\n",
    "    tot_pix = np.count_nonzero((~np.isnan(array_copy)))\n",
    "    cloud_percent = round((float(cloud) / float(tot_pix)) * 100, 2)\n",
    "    return cloud_percent"
   ]
  },
  {
   "cell_type": "code",
   "execution_count": 14,
   "id": "5b3a4996-e6dd-4b30-9203-7ec67d6e984f",
   "metadata": {},
   "outputs": [],
   "source": [
    "def step2_gapfilling_tot(array,array_copy):\n",
    "    cloudpercent_b = compute_cloudpercent_b(array)\n",
    "    cloudpercent_a = compute_cloudpercent_a(array_copy)\n",
    "    step2_gf_tot = round(((cloudpercent_b)-(cloudpercent_a)),2)\n",
    "    #step3_gf_tot = ((cloudpercent_b)-(cloudpercent_a))\n",
    "    return step2_gf_tot"
   ]
  },
  {
   "cell_type": "code",
   "execution_count": 15,
   "id": "03a316cd-ac63-4a37-93cf-c59fc0463a3c",
   "metadata": {},
   "outputs": [],
   "source": [
    "def compute_snowpercent_b(array):\n",
    "    snow = np.count_nonzero((array == 1) | (array == 100))\n",
    "    #print(snow)\n",
    "    tot_pix = np.count_nonzero((~np.isnan(array)))\n",
    "    snow_percent_b = round(((float(snow) / float(tot_pix)) * 100),2)\n",
    "    return snow_percent_b"
   ]
  },
  {
   "cell_type": "code",
   "execution_count": 16,
   "id": "fa197f77-8e1d-4e3e-b8d2-162a418ead05",
   "metadata": {},
   "outputs": [],
   "source": [
    "##le faire avant l'analyse et après l'analyse afin de voir le pourcentage de changement\n",
    "##After\n",
    "def compute_snowpercent_a(array_copy):\n",
    "    snow = np.count_nonzero((array_copy == 1) | (array_copy == 100))\n",
    "    tot_pix = np.count_nonzero((~np.isnan(array_copy)))\n",
    "    snow_percent = round((float(snow) / float(tot_pix)) * 100, 2)\n",
    "    return snow_percent"
   ]
  },
  {
   "cell_type": "code",
   "execution_count": 17,
   "id": "b02fd97b-5b3d-4792-9452-509e2f81d76a",
   "metadata": {},
   "outputs": [],
   "source": [
    "##le faire avant l'analyse et après l'analyse afin de voir le pourcentage de changement\n",
    "##Before\n",
    "def compute_landpercent_b(array):\n",
    "    land = np.count_nonzero((array == 0) | (array == 200))\n",
    "    #print(land)\n",
    "    tot_pix = np.count_nonzero((~np.isnan(array)))\n",
    "    land_percent_b = round((float(land) / float(tot_pix)) * 100,2)\n",
    "    return land_percent_b"
   ]
  },
  {
   "cell_type": "code",
   "execution_count": 18,
   "id": "9cce54f6-4496-4231-98b2-aeceab5a8e96",
   "metadata": {},
   "outputs": [],
   "source": [
    "##le faire avant l'analyse et après l'analyse afin de voir le pourcentage de changement\n",
    "##After\n",
    "def compute_landpercent_a(array_copy):\n",
    "    land = np.count_nonzero((array_copy == 0) | (array_copy == 200))\n",
    "    tot_pix = np.count_nonzero((~np.isnan(array_copy)))\n",
    "    land_percent = round((float(land) / float(tot_pix)) * 100, 2)\n",
    "    return land_percent"
   ]
  },
  {
   "cell_type": "code",
   "execution_count": 19,
   "id": "1575f22a-db5a-4f07-8dea-77d051062414",
   "metadata": {},
   "outputs": [],
   "source": [
    "cloud_percent_b_list = []\n",
    "cloud_percent_a_list = []\n",
    "step2_gapfilling_tot_list = []\n",
    "snow_percent_b_list = []\n",
    "snow_percent_a_list = []\n",
    "land_percent_b_list = []\n",
    "land_percent_a_list = []\n",
    "time_list = []"
   ]
  },
  {
   "cell_type": "raw",
   "id": "b2e79109-101e-4e06-bf75-e70fd1e33bba",
   "metadata": {
    "scrolled": true
   },
   "source": [
    "for i in range(len(NDSI_SON_beforSL.z)):\n",
    "    print(i)\n",
    "    cloud_percent_b = compute_cloudpercent_b(NDSI_SON_beforSL.snow_final2.isel(z=i))\n",
    "    cloud_percent_b_list.append(cloud_percent_b)\n",
    "\n",
    "    snow_percent_b = compute_snowpercent_b(NDSI_SON_beforSL.snow_final2.isel(z=i))\n",
    "    snow_percent_b_list.append(snow_percent_b)\n",
    "    land_percent_b = compute_landpercent_b(NDSI_SON_beforSL.snow_final2.isel(z=i))\n",
    "    land_percent_b_list.append(land_percent_b)\n",
    "\n",
    "    time = pd.to_datetime(NDSI_SON_beforSL.z.isel(z=i).values)\n",
    "    formatted_date = time.strftime('%Y-%m-%d')\n",
    "    time_list.append(formatted_date)\n",
    "\n",
    "\n",
    "    cloud_percent_a = compute_cloudpercent_a(NDSI_SON_beforSL.snow_final3.isel(z=i))\n",
    "    cloud_percent_a_list.append(cloud_percent_a)\n",
    "\n",
    "    snow_percent_a = compute_snowpercent_a(NDSI_SON_beforSL.snow_final3.isel(z=i))\n",
    "    snow_percent_a_list.append(snow_percent_a)\n",
    "    land_percent_a = compute_landpercent_a(NDSI_SON_beforSL.snow_final3.isel(z=i))\n",
    "    land_percent_a_list.append(land_percent_a)\n",
    "\n",
    "    step2_gf_tot = step2_gapfilling_tot(NDSI_SON_beforSL.snow_final2.isel(z=i),NDSI_SON_beforSL.snow_final3.isel(z=i))\n",
    "    step2_gapfilling_tot_list.append(step2_gf_tot)\n",
    "\n"
   ]
  },
  {
   "cell_type": "code",
   "execution_count": 21,
   "id": "45d8dc6a-28b8-4079-b52b-f3fe73fd8ece",
   "metadata": {},
   "outputs": [],
   "source": [
    "data = {\n",
    "    'Time': time_list,\n",
    "    'Cloud_Percent_Before': cloud_percent_b_list,\n",
    "    'Cloud_Percent_After': cloud_percent_a_list,\n",
    "    'Cloud_Reduction': step2_gapfilling_tot_list,\n",
    "    'Snow_Percent_Before': snow_percent_b_list,\n",
    "    'Snow_Percent_After': snow_percent_a_list,\n",
    "    'Land_Percent_Before': land_percent_b_list,\n",
    "    'Land_Percent_After': land_percent_a_list\n",
    "}\n",
    "\n",
    "# Créer un DataFrame à partir du dictionnaire\n",
    "df_step2 = pd.DataFrame(data)\n",
    "filename = f'df_summer_mask_DJF.xlsx'\n",
    "filepath = os.path.join('/home/charlottepoussin/Excels', filename)\n",
    "df_step2.to_excel(filepath, index=False)"
   ]
  }
 ],
 "metadata": {
  "kernelspec": {
   "display_name": "myenv",
   "language": "python",
   "name": "myenv"
  },
  "language_info": {
   "codemirror_mode": {
    "name": "ipython",
    "version": 3
   },
   "file_extension": ".py",
   "mimetype": "text/x-python",
   "name": "python",
   "nbconvert_exporter": "python",
   "pygments_lexer": "ipython3",
   "version": "3.12.1"
  }
 },
 "nbformat": 4,
 "nbformat_minor": 5
}
